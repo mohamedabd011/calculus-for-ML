{
 "cells": [
  {
   "cell_type": "code",
   "execution_count": 2,
   "metadata": {},
   "outputs": [],
   "source": [
    "import numpy as np "
   ]
  },
  {
   "cell_type": "code",
   "execution_count": 10,
   "metadata": {},
   "outputs": [
    {
     "name": "stdout",
     "output_type": "stream",
     "text": [
      "derivative of C/w = -0.0 \n",
      "derivative of C/b = -1.1186026425530913\n"
     ]
    }
   ],
   "source": [
    "# First define our sigma function.\n",
    "sigma = np.tanh\n",
    "\n",
    "# Next define the feed-forward equation.\n",
    "def a1 (w1, b1, a0) :\n",
    "  z = w1 * a0 + b1\n",
    "  return sigma(z)\n",
    "\n",
    "# The individual cost function is the square of the difference between\n",
    "# the network output and the training data output.\n",
    "def C (w1, b1, x, y) :\n",
    "  return (a1(w1, b1, x) - y)**2\n",
    "\n",
    "# This function returns the derivative of the cost function with\n",
    "# respect to the weight.\n",
    "def dCdw (w1, b1, x, y) :\n",
    "  z = w1 * x + b1\n",
    "  dCda = 2 * (a1(w1, b1, x) - y) # Derivative of cost with activation\n",
    "  dadz = 1/np.cosh(z)**2 # derivative of activation with weighted sum z\n",
    "  dzdw = x # derivative of weighted sum z with weight\n",
    "  return dCda * dadz * dzdw # Return the chain rule product.\n",
    "\n",
    "# This function returns the derivative of the cost function with\n",
    "# respect to the bias.\n",
    "# It is very similar to the previous function.\n",
    "# You should complete this function.\n",
    "def dCdb (w1, b1, x, y) :\n",
    "  z = w1 * x + b1\n",
    "  dCda = 2 * (a1(w1, b1, x) - y)\n",
    "  dadz = 1/np.cosh(z)**2\n",
    " \n",
    "  dzdb = 1\n",
    "  return dCda * dadz * dzdb\n",
    "\n",
    "\"\"\"Test your code before submission:\"\"\"\n",
    "# Let's start with an unfit weight and bias.\n",
    "w1 = 2.3\n",
    "b1 = -1.2\n",
    "# We can test on a single data point pair of x and y.\n",
    "x = 0\n",
    "y = 1\n",
    "# Output how the cost would change\n",
    "# in proportion to a small change in the bias\n",
    "print( f'''derivative of C/w = {dCdw(w1, b1, x, y)} \n",
    "derivative of C/b = {dCdb(w1, b1, x, y)}'''   )\n"
   ]
  },
  {
   "cell_type": "code",
   "execution_count": null,
   "metadata": {},
   "outputs": [],
   "source": []
  }
 ],
 "metadata": {
  "kernelspec": {
   "display_name": "Python 3",
   "language": "python",
   "name": "python3"
  },
  "language_info": {
   "codemirror_mode": {
    "name": "ipython",
    "version": 3
   },
   "file_extension": ".py",
   "mimetype": "text/x-python",
   "name": "python",
   "nbconvert_exporter": "python",
   "pygments_lexer": "ipython3",
   "version": "3.7.6"
  }
 },
 "nbformat": 4,
 "nbformat_minor": 4
}
